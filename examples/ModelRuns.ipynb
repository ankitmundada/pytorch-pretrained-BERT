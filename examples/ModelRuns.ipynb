{
 "cells": [
  {
   "cell_type": "code",
   "execution_count": 4,
   "metadata": {},
   "outputs": [
    {
     "name": "stdout",
     "output_type": "stream",
     "text": [
      "06/26/2019 12:12:14 - INFO - __main__ -   device: cuda n_gpu: 1, distributed training: False, 16-bits training: False\n",
      "06/26/2019 12:12:14 - INFO - pytorch_pretrained_bert.tokenization -   loading vocabulary file runs/strings_sem_labeling/vocab.txt\n",
      "06/26/2019 12:12:14 - INFO - pytorch_pretrained_bert.modeling -   loading archive file runs/strings_sem_labeling/\n",
      "06/26/2019 12:12:14 - INFO - pytorch_pretrained_bert.modeling -   Model config {\n",
      "  \"attention_probs_dropout_prob\": 0.1,\n",
      "  \"hidden_act\": \"gelu\",\n",
      "  \"hidden_dropout_prob\": 0.1,\n",
      "  \"hidden_size\": 768,\n",
      "  \"initializer_range\": 0.02,\n",
      "  \"intermediate_size\": 3072,\n",
      "  \"max_position_embeddings\": 512,\n",
      "  \"num_attention_heads\": 12,\n",
      "  \"num_hidden_layers\": 12,\n",
      "  \"type_vocab_size\": 2,\n",
      "  \"vocab_size\": 30522\n",
      "}\n",
      "\n",
      "06/26/2019 12:12:20 - INFO - pytorch_pretrained_bert.modeling -   loading archive file runs/strings_sem_labeling/\n",
      "06/26/2019 12:12:20 - INFO - pytorch_pretrained_bert.modeling -   Model config {\n",
      "  \"attention_probs_dropout_prob\": 0.1,\n",
      "  \"hidden_act\": \"gelu\",\n",
      "  \"hidden_dropout_prob\": 0.1,\n",
      "  \"hidden_size\": 768,\n",
      "  \"initializer_range\": 0.02,\n",
      "  \"intermediate_size\": 3072,\n",
      "  \"max_position_embeddings\": 512,\n",
      "  \"num_attention_heads\": 12,\n",
      "  \"num_hidden_layers\": 12,\n",
      "  \"type_vocab_size\": 2,\n",
      "  \"vocab_size\": 30522\n",
      "}\n",
      "\n",
      "06/26/2019 12:12:23 - INFO - __main__ -   ***** Running evaluation *****\n",
      "06/26/2019 12:12:23 - INFO - __main__ -     Num examples = 171\n",
      "06/26/2019 12:12:23 - INFO - __main__ -     Batch size = 8\n",
      "Evaluating: 100%|���������������������������������������������������������������������������������������������| 22/22 [00:02<00:00,  7.97it/s]\n",
      "/home/strings/.conda/envs/ml_gpu_pytorch/lib/python3.7/site-packages/sklearn/metrics/classification.py:1437: UndefinedMetricWarning: F-score is ill-defined and being set to 0.0 in labels with no predicted samples.\n",
      "  'precision', 'predicted', average, warn_for)\n",
      "              Other  Product Info  Objection  Pricing  Competitor  Next Steps\n",
      "Other            87            14          0        1           0           4\n",
      "Product Info     16            30          0        2           0           0\n",
      "Objection         1             3          0        0           0           0\n",
      "Pricing           1             2          0        4           0           0\n",
      "Competitor        2             0          0        0           0           0\n",
      "Next Steps        2             0          0        0           0           2\n",
      "06/26/2019 12:12:26 - INFO - __main__ -   ***** Eval results *****\n",
      "06/26/2019 12:12:26 - INFO - __main__ -     acc = 0.7192982456140351\n",
      "06/26/2019 12:12:26 - INFO - __main__ -     eval_loss = 0.7983627807010304\n",
      "06/26/2019 12:12:26 - INFO - __main__ -     f1 = [0.80930233 0.6185567  0.         0.57142857 0.         0.4       ]\n",
      "06/26/2019 12:12:26 - INFO - __main__ -     global_step = 0\n",
      "06/26/2019 12:12:26 - INFO - __main__ -     loss = None\n"
     ]
    }
   ],
   "source": [
    "!python run_classifier.py \\\n",
    "  --task_name strings \\\n",
    "  --do_eval \\\n",
    "  --do_lower_case \\\n",
    "  --data_dir ~/datasets/sem_labeling \\\n",
    "  --bert_model runs/strings_sem_labeling/ \\\n",
    "  --max_seq_length 128 \\\n",
    "  --train_batch_size 4 \\\n",
    "  --learning_rate 2e-5 \\\n",
    "  --num_train_epochs 3.0 \\\n",
    "  --output_dir ./runs/strings_sem_labeling2\n"
   ]
  }
 ],
 "metadata": {
  "kernelspec": {
   "display_name": "Python 3",
   "language": "python",
   "name": "python3"
  },
  "language_info": {
   "codemirror_mode": {
    "name": "ipython",
    "version": 3
   },
   "file_extension": ".py",
   "mimetype": "text/x-python",
   "name": "python",
   "nbconvert_exporter": "python",
   "pygments_lexer": "ipython3",
   "version": "3.5.3"
  }
 },
 "nbformat": 4,
 "nbformat_minor": 2
}
